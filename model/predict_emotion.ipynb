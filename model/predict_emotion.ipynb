{
 "cells": [
  {
   "cell_type": "code",
   "execution_count": 5,
   "metadata": {},
   "outputs": [],
   "source": [
    "# import pyaudio\n",
    "import wave\n",
    "import librosa\n",
    "import numpy as np\n",
    "import pandas as pd\n",
    "from sklearn.preprocessing import LabelEncoder\n",
    "from keras import backend as K\n",
    "from keras.models import load_model\n",
    "from keras.optimizers import rmsprop"
   ]
  },
  {
   "cell_type": "code",
   "execution_count": 16,
   "metadata": {},
   "outputs": [
    {
     "name": "stdout",
     "output_type": "stream",
     "text": [
      "\r",
      "1/1 [==============================] - 0s 66ms/step\n"
     ]
    },
    {
     "data": {
      "text/plain": [
       "array(['female_sad'], dtype=object)"
      ]
     },
     "execution_count": 16,
     "metadata": {},
     "output_type": "execute_result"
    }
   ],
   "source": [
    "file_path='record_output.wav'\n",
    "X, sample_rate = librosa.load(file_path, res_type='kaiser_fast',duration=3,sr=22050*2,offset=0.5)\n",
    "X=np.concatenate((X, X), axis=None)\n",
    "X=X[:132300]\n",
    "sample_rate = np.array(sample_rate)\n",
    "model = load_model('my_model')\n",
    "opt = rmsprop(lr=0.0001, decay=1e-6)\n",
    "model.compile(loss='categorical_crossentropy', optimizer=opt, metrics=['accuracy'])\n",
    "lb = LabelEncoder()\n",
    "lb.classes_ = np.load('label_classes.npy', allow_pickle=True)\n",
    "features = np.mean(librosa.feature.mfcc(y=X, sr=sample_rate, n_mfcc=13),axis=0)\n",
    "features_df= pd.DataFrame(data=features)\n",
    "features_stacked = features_df.stack().to_frame().T\n",
    "features_expanded= np.expand_dims(features_stacked, axis=2)\n",
    "predictions = model.predict(features_expanded, batch_size=512, verbose=1)\n",
    "predictions_mod = predictions.argmax(axis=1)\n",
    "preds_flat = predictions_mod.astype(int).flatten()\n",
    "preds_flat\n",
    "predictions_array = (lb.inverse_transform((preds_flat)))\n",
    "predictions_array\n",
    "if(predictions_array[0]=='female_sad' or predictions_array[0]=='male_angry')\n",
    "    return True\n",
    "return False"
   ]
  },
  {
   "cell_type": "code",
   "execution_count": null,
   "metadata": {},
   "outputs": [],
   "source": []
  }
 ],
 "metadata": {
  "kernelspec": {
   "display_name": "Python 3",
   "language": "python",
   "name": "python3"
  },
  "language_info": {
   "codemirror_mode": {
    "name": "ipython",
    "version": 3
   },
   "file_extension": ".py",
   "mimetype": "text/x-python",
   "name": "python",
   "nbconvert_exporter": "python",
   "pygments_lexer": "ipython3",
   "version": "3.7.4"
  }
 },
 "nbformat": 4,
 "nbformat_minor": 2
}
